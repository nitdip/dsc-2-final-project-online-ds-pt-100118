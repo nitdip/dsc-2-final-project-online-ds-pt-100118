{
 "cells": [
  {
   "cell_type": "markdown",
   "metadata": {},
   "source": [
    "NOTES FROM MILLY:\n",
    "* DO THE FUCKING T TEST"
   ]
  },
  {
   "cell_type": "markdown",
   "metadata": {},
   "source": [
    "# Northing Wind Trading Co.\n",
    "\n",
    "## Hypothesis:\n",
    "\n",
    "1. Do discounts affect the quantity ordered.\n",
    "1. Processing time equals the mean.\n",
    "1. \n",
    "1. \n",
    "\n",
    "## SQL Queries Using SqLite3\n",
    "### Northwind ERD\n",
    "<img src='northwind_ERD.png'>\n",
    "\n",
    "### Importing sqlite database"
   ]
  },
  {
   "cell_type": "code",
   "execution_count": 1,
   "metadata": {},
   "outputs": [],
   "source": [
    "import sqlite3\n",
    "conn = sqlite3.connect('Northwind_small.sqlite')\n",
    "c = conn.cursor()"
   ]
  },
  {
   "cell_type": "markdown",
   "metadata": {},
   "source": [
    "### List of Tables"
   ]
  },
  {
   "cell_type": "code",
   "execution_count": 2,
   "metadata": {
    "scrolled": true
   },
   "outputs": [
    {
     "data": {
      "text/plain": [
       "[('Employee',),\n",
       " ('Category',),\n",
       " ('Customer',),\n",
       " ('Shipper',),\n",
       " ('Supplier',),\n",
       " ('Order',),\n",
       " ('Product',),\n",
       " ('OrderDetail',),\n",
       " ('CustomerCustomerDemo',),\n",
       " ('CustomerDemographic',),\n",
       " ('Region',),\n",
       " ('Territory',),\n",
       " ('EmployeeTerritory',)]"
      ]
     },
     "execution_count": 2,
     "metadata": {},
     "output_type": "execute_result"
    }
   ],
   "source": [
    "c.execute('''\n",
    "SELECT name\n",
    "FROM sqlite_master\n",
    "WHERE type='table';\n",
    "''').fetchall()"
   ]
  },
  {
   "cell_type": "markdown",
   "metadata": {},
   "source": [
    "## SQL for EDA\n",
    "List of the columns in OrderDetail"
   ]
  },
  {
   "cell_type": "code",
   "execution_count": 3,
   "metadata": {
    "scrolled": true
   },
   "outputs": [
    {
     "data": {
      "text/plain": [
       "[(0, 'Id', 'VARCHAR(8000)', 0, None, 1),\n",
       " (1, 'OrderId', 'INTEGER', 1, None, 0),\n",
       " (2, 'ProductId', 'INTEGER', 1, None, 0),\n",
       " (3, 'UnitPrice', 'DECIMAL', 1, None, 0),\n",
       " (4, 'Quantity', 'INTEGER', 1, None, 0),\n",
       " (5, 'Discount', 'DOUBLE', 1, None, 0)]"
      ]
     },
     "execution_count": 3,
     "metadata": {},
     "output_type": "execute_result"
    }
   ],
   "source": [
    "c.execute('''\n",
    "PRAGMA table_info(OrderDetail)\n",
    "''').fetchall()"
   ]
  },
  {
   "cell_type": "markdown",
   "metadata": {},
   "source": [
    "SQL has some native functions that can be used for EDA, which we will explor here. The following function that we will be using will be:\n",
    "\n",
    "* Min\n",
    "* Max\n",
    "* Average"
   ]
  },
  {
   "cell_type": "code",
   "execution_count": 4,
   "metadata": {},
   "outputs": [
    {
     "data": {
      "text/plain": [
       "[(0.0, 1317),\n",
       " (0.01, 1),\n",
       " (0.02, 2),\n",
       " (0.03, 3),\n",
       " (0.04, 1),\n",
       " (0.05, 185),\n",
       " (0.06, 1),\n",
       " (0.1, 173),\n",
       " (0.15, 157),\n",
       " (0.2, 161),\n",
       " (0.25, 154)]"
      ]
     },
     "execution_count": 4,
     "metadata": {},
     "output_type": "execute_result"
    }
   ],
   "source": [
    "c.execute('''\n",
    "SELECT Discount, COUNT(Discount)\n",
    "FROM OrderDetail\n",
    "GROUP BY Discount\n",
    "ORDER BY Discount;\n",
    "''').fetchall()"
   ]
  },
  {
   "cell_type": "code",
   "execution_count": 5,
   "metadata": {},
   "outputs": [
    {
     "data": {
      "text/plain": [
       "[(0.05616705336426916, 0.0, 0.25)]"
      ]
     },
     "execution_count": 5,
     "metadata": {},
     "output_type": "execute_result"
    }
   ],
   "source": [
    "c.execute('''\n",
    "SELECT AVG(Discount), MIN(Discount), MAX(Discount)\n",
    "FROM OrderDetail;\n",
    "''').fetchall()"
   ]
  },
  {
   "cell_type": "markdown",
   "metadata": {},
   "source": [
    "Avg: .06\n",
    "\n",
    "Min: 0.0\n",
    "\n",
    "Max: 0.25"
   ]
  },
  {
   "cell_type": "markdown",
   "metadata": {},
   "source": [
    "The average discount per order is 6%, but looking at the orders. As there is no native median function is SQL we will do the remaining EDA using Pandas and Numpy."
   ]
  },
  {
   "cell_type": "markdown",
   "metadata": {},
   "source": [
    "## Importing Pandas & Numpy for EDA"
   ]
  },
  {
   "cell_type": "code",
   "execution_count": 6,
   "metadata": {},
   "outputs": [],
   "source": [
    "import pandas as pd\n",
    "import numpy as np\n",
    "import matplotlib.pyplot as plt\n",
    "import seaborn as sns"
   ]
  },
  {
   "cell_type": "code",
   "execution_count": 7,
   "metadata": {},
   "outputs": [],
   "source": [
    "orders = pd.read_sql_query('''\n",
    "SELECT *\n",
    "FROM OrderDetail;\n",
    "''', conn)"
   ]
  },
  {
   "cell_type": "code",
   "execution_count": 8,
   "metadata": {},
   "outputs": [
    {
     "data": {
      "text/html": [
       "<div>\n",
       "<style scoped>\n",
       "    .dataframe tbody tr th:only-of-type {\n",
       "        vertical-align: middle;\n",
       "    }\n",
       "\n",
       "    .dataframe tbody tr th {\n",
       "        vertical-align: top;\n",
       "    }\n",
       "\n",
       "    .dataframe thead th {\n",
       "        text-align: right;\n",
       "    }\n",
       "</style>\n",
       "<table border=\"1\" class=\"dataframe\">\n",
       "  <thead>\n",
       "    <tr style=\"text-align: right;\">\n",
       "      <th></th>\n",
       "      <th>Id</th>\n",
       "      <th>OrderId</th>\n",
       "      <th>ProductId</th>\n",
       "      <th>UnitPrice</th>\n",
       "      <th>Quantity</th>\n",
       "      <th>Discount</th>\n",
       "    </tr>\n",
       "  </thead>\n",
       "  <tbody>\n",
       "    <tr>\n",
       "      <th>0</th>\n",
       "      <td>10248/11</td>\n",
       "      <td>10248</td>\n",
       "      <td>11</td>\n",
       "      <td>14.0</td>\n",
       "      <td>12</td>\n",
       "      <td>0.0</td>\n",
       "    </tr>\n",
       "    <tr>\n",
       "      <th>1</th>\n",
       "      <td>10248/42</td>\n",
       "      <td>10248</td>\n",
       "      <td>42</td>\n",
       "      <td>9.8</td>\n",
       "      <td>10</td>\n",
       "      <td>0.0</td>\n",
       "    </tr>\n",
       "    <tr>\n",
       "      <th>2</th>\n",
       "      <td>10248/72</td>\n",
       "      <td>10248</td>\n",
       "      <td>72</td>\n",
       "      <td>34.8</td>\n",
       "      <td>5</td>\n",
       "      <td>0.0</td>\n",
       "    </tr>\n",
       "    <tr>\n",
       "      <th>3</th>\n",
       "      <td>10249/14</td>\n",
       "      <td>10249</td>\n",
       "      <td>14</td>\n",
       "      <td>18.6</td>\n",
       "      <td>9</td>\n",
       "      <td>0.0</td>\n",
       "    </tr>\n",
       "    <tr>\n",
       "      <th>4</th>\n",
       "      <td>10249/51</td>\n",
       "      <td>10249</td>\n",
       "      <td>51</td>\n",
       "      <td>42.4</td>\n",
       "      <td>40</td>\n",
       "      <td>0.0</td>\n",
       "    </tr>\n",
       "  </tbody>\n",
       "</table>\n",
       "</div>"
      ],
      "text/plain": [
       "         Id  OrderId  ProductId  UnitPrice  Quantity  Discount\n",
       "0  10248/11    10248         11       14.0        12       0.0\n",
       "1  10248/42    10248         42        9.8        10       0.0\n",
       "2  10248/72    10248         72       34.8         5       0.0\n",
       "3  10249/14    10249         14       18.6         9       0.0\n",
       "4  10249/51    10249         51       42.4        40       0.0"
      ]
     },
     "execution_count": 8,
     "metadata": {},
     "output_type": "execute_result"
    }
   ],
   "source": [
    "orders.head()"
   ]
  },
  {
   "cell_type": "code",
   "execution_count": 9,
   "metadata": {},
   "outputs": [
    {
     "data": {
      "text/plain": [
       "0.00    1317\n",
       "0.05     185\n",
       "0.10     173\n",
       "0.20     161\n",
       "0.15     157\n",
       "0.25     154\n",
       "0.03       3\n",
       "0.02       2\n",
       "0.01       1\n",
       "0.04       1\n",
       "0.06       1\n",
       "Name: Discount, dtype: int64"
      ]
     },
     "execution_count": 9,
     "metadata": {},
     "output_type": "execute_result"
    }
   ],
   "source": [
    "orders.Discount.value_counts()"
   ]
  },
  {
   "cell_type": "code",
   "execution_count": 10,
   "metadata": {},
   "outputs": [
    {
     "data": {
      "text/html": [
       "<div>\n",
       "<style scoped>\n",
       "    .dataframe tbody tr th:only-of-type {\n",
       "        vertical-align: middle;\n",
       "    }\n",
       "\n",
       "    .dataframe tbody tr th {\n",
       "        vertical-align: top;\n",
       "    }\n",
       "\n",
       "    .dataframe thead th {\n",
       "        text-align: right;\n",
       "    }\n",
       "</style>\n",
       "<table border=\"1\" class=\"dataframe\">\n",
       "  <thead>\n",
       "    <tr style=\"text-align: right;\">\n",
       "      <th></th>\n",
       "      <th>OrderId</th>\n",
       "      <th>ProductId</th>\n",
       "      <th>UnitPrice</th>\n",
       "      <th>Quantity</th>\n",
       "      <th>Discount</th>\n",
       "    </tr>\n",
       "  </thead>\n",
       "  <tbody>\n",
       "    <tr>\n",
       "      <th>count</th>\n",
       "      <td>2155.000000</td>\n",
       "      <td>2155.000000</td>\n",
       "      <td>2155.000000</td>\n",
       "      <td>2155.000000</td>\n",
       "      <td>2155.000000</td>\n",
       "    </tr>\n",
       "    <tr>\n",
       "      <th>mean</th>\n",
       "      <td>10659.375870</td>\n",
       "      <td>40.793039</td>\n",
       "      <td>26.218520</td>\n",
       "      <td>23.812993</td>\n",
       "      <td>0.056167</td>\n",
       "    </tr>\n",
       "    <tr>\n",
       "      <th>std</th>\n",
       "      <td>241.378032</td>\n",
       "      <td>22.159019</td>\n",
       "      <td>29.827418</td>\n",
       "      <td>19.022047</td>\n",
       "      <td>0.083450</td>\n",
       "    </tr>\n",
       "    <tr>\n",
       "      <th>min</th>\n",
       "      <td>10248.000000</td>\n",
       "      <td>1.000000</td>\n",
       "      <td>2.000000</td>\n",
       "      <td>1.000000</td>\n",
       "      <td>0.000000</td>\n",
       "    </tr>\n",
       "    <tr>\n",
       "      <th>25%</th>\n",
       "      <td>10451.000000</td>\n",
       "      <td>22.000000</td>\n",
       "      <td>12.000000</td>\n",
       "      <td>10.000000</td>\n",
       "      <td>0.000000</td>\n",
       "    </tr>\n",
       "    <tr>\n",
       "      <th>50%</th>\n",
       "      <td>10657.000000</td>\n",
       "      <td>41.000000</td>\n",
       "      <td>18.400000</td>\n",
       "      <td>20.000000</td>\n",
       "      <td>0.000000</td>\n",
       "    </tr>\n",
       "    <tr>\n",
       "      <th>75%</th>\n",
       "      <td>10862.500000</td>\n",
       "      <td>60.000000</td>\n",
       "      <td>32.000000</td>\n",
       "      <td>30.000000</td>\n",
       "      <td>0.100000</td>\n",
       "    </tr>\n",
       "    <tr>\n",
       "      <th>max</th>\n",
       "      <td>11077.000000</td>\n",
       "      <td>77.000000</td>\n",
       "      <td>263.500000</td>\n",
       "      <td>130.000000</td>\n",
       "      <td>0.250000</td>\n",
       "    </tr>\n",
       "  </tbody>\n",
       "</table>\n",
       "</div>"
      ],
      "text/plain": [
       "            OrderId    ProductId    UnitPrice     Quantity     Discount\n",
       "count   2155.000000  2155.000000  2155.000000  2155.000000  2155.000000\n",
       "mean   10659.375870    40.793039    26.218520    23.812993     0.056167\n",
       "std      241.378032    22.159019    29.827418    19.022047     0.083450\n",
       "min    10248.000000     1.000000     2.000000     1.000000     0.000000\n",
       "25%    10451.000000    22.000000    12.000000    10.000000     0.000000\n",
       "50%    10657.000000    41.000000    18.400000    20.000000     0.000000\n",
       "75%    10862.500000    60.000000    32.000000    30.000000     0.100000\n",
       "max    11077.000000    77.000000   263.500000   130.000000     0.250000"
      ]
     },
     "execution_count": 10,
     "metadata": {},
     "output_type": "execute_result"
    }
   ],
   "source": [
    "orders.describe()"
   ]
  },
  {
   "cell_type": "markdown",
   "metadata": {},
   "source": [
    "### Visual EDA Using Matplotlib & Seaborn"
   ]
  },
  {
   "cell_type": "code",
   "execution_count": 11,
   "metadata": {},
   "outputs": [],
   "source": [
    "import matplotlib.pyplot as plt\n",
    "import seaborn as sns\n",
    "sns.set()"
   ]
  },
  {
   "cell_type": "code",
   "execution_count": 12,
   "metadata": {},
   "outputs": [],
   "source": [
    "discount_false = orders[orders['Discount'] == 0.0]\n",
    "discount_true = orders[orders['Discount'] > 0.0]"
   ]
  },
  {
   "cell_type": "code",
   "execution_count": 13,
   "metadata": {},
   "outputs": [
    {
     "data": {
      "text/html": [
       "<div>\n",
       "<style scoped>\n",
       "    .dataframe tbody tr th:only-of-type {\n",
       "        vertical-align: middle;\n",
       "    }\n",
       "\n",
       "    .dataframe tbody tr th {\n",
       "        vertical-align: top;\n",
       "    }\n",
       "\n",
       "    .dataframe thead th {\n",
       "        text-align: right;\n",
       "    }\n",
       "</style>\n",
       "<table border=\"1\" class=\"dataframe\">\n",
       "  <thead>\n",
       "    <tr style=\"text-align: right;\">\n",
       "      <th></th>\n",
       "      <th>Id</th>\n",
       "      <th>OrderId</th>\n",
       "      <th>ProductId</th>\n",
       "      <th>UnitPrice</th>\n",
       "      <th>Quantity</th>\n",
       "      <th>Discount</th>\n",
       "    </tr>\n",
       "  </thead>\n",
       "  <tbody>\n",
       "    <tr>\n",
       "      <th>0</th>\n",
       "      <td>10248/11</td>\n",
       "      <td>10248</td>\n",
       "      <td>11</td>\n",
       "      <td>14.0</td>\n",
       "      <td>12</td>\n",
       "      <td>0.0</td>\n",
       "    </tr>\n",
       "    <tr>\n",
       "      <th>1</th>\n",
       "      <td>10248/42</td>\n",
       "      <td>10248</td>\n",
       "      <td>42</td>\n",
       "      <td>9.8</td>\n",
       "      <td>10</td>\n",
       "      <td>0.0</td>\n",
       "    </tr>\n",
       "    <tr>\n",
       "      <th>2</th>\n",
       "      <td>10248/72</td>\n",
       "      <td>10248</td>\n",
       "      <td>72</td>\n",
       "      <td>34.8</td>\n",
       "      <td>5</td>\n",
       "      <td>0.0</td>\n",
       "    </tr>\n",
       "    <tr>\n",
       "      <th>3</th>\n",
       "      <td>10249/14</td>\n",
       "      <td>10249</td>\n",
       "      <td>14</td>\n",
       "      <td>18.6</td>\n",
       "      <td>9</td>\n",
       "      <td>0.0</td>\n",
       "    </tr>\n",
       "    <tr>\n",
       "      <th>4</th>\n",
       "      <td>10249/51</td>\n",
       "      <td>10249</td>\n",
       "      <td>51</td>\n",
       "      <td>42.4</td>\n",
       "      <td>40</td>\n",
       "      <td>0.0</td>\n",
       "    </tr>\n",
       "  </tbody>\n",
       "</table>\n",
       "</div>"
      ],
      "text/plain": [
       "         Id  OrderId  ProductId  UnitPrice  Quantity  Discount\n",
       "0  10248/11    10248         11       14.0        12       0.0\n",
       "1  10248/42    10248         42        9.8        10       0.0\n",
       "2  10248/72    10248         72       34.8         5       0.0\n",
       "3  10249/14    10249         14       18.6         9       0.0\n",
       "4  10249/51    10249         51       42.4        40       0.0"
      ]
     },
     "execution_count": 13,
     "metadata": {},
     "output_type": "execute_result"
    }
   ],
   "source": [
    "discount_false.head()"
   ]
  },
  {
   "cell_type": "code",
   "execution_count": 14,
   "metadata": {},
   "outputs": [
    {
     "data": {
      "text/html": [
       "<div>\n",
       "<style scoped>\n",
       "    .dataframe tbody tr th:only-of-type {\n",
       "        vertical-align: middle;\n",
       "    }\n",
       "\n",
       "    .dataframe tbody tr th {\n",
       "        vertical-align: top;\n",
       "    }\n",
       "\n",
       "    .dataframe thead th {\n",
       "        text-align: right;\n",
       "    }\n",
       "</style>\n",
       "<table border=\"1\" class=\"dataframe\">\n",
       "  <thead>\n",
       "    <tr style=\"text-align: right;\">\n",
       "      <th></th>\n",
       "      <th>Id</th>\n",
       "      <th>OrderId</th>\n",
       "      <th>ProductId</th>\n",
       "      <th>UnitPrice</th>\n",
       "      <th>Quantity</th>\n",
       "      <th>Discount</th>\n",
       "    </tr>\n",
       "  </thead>\n",
       "  <tbody>\n",
       "    <tr>\n",
       "      <th>6</th>\n",
       "      <td>10250/51</td>\n",
       "      <td>10250</td>\n",
       "      <td>51</td>\n",
       "      <td>42.4</td>\n",
       "      <td>35</td>\n",
       "      <td>0.15</td>\n",
       "    </tr>\n",
       "    <tr>\n",
       "      <th>7</th>\n",
       "      <td>10250/65</td>\n",
       "      <td>10250</td>\n",
       "      <td>65</td>\n",
       "      <td>16.8</td>\n",
       "      <td>15</td>\n",
       "      <td>0.15</td>\n",
       "    </tr>\n",
       "    <tr>\n",
       "      <th>8</th>\n",
       "      <td>10251/22</td>\n",
       "      <td>10251</td>\n",
       "      <td>22</td>\n",
       "      <td>16.8</td>\n",
       "      <td>6</td>\n",
       "      <td>0.05</td>\n",
       "    </tr>\n",
       "    <tr>\n",
       "      <th>9</th>\n",
       "      <td>10251/57</td>\n",
       "      <td>10251</td>\n",
       "      <td>57</td>\n",
       "      <td>15.6</td>\n",
       "      <td>15</td>\n",
       "      <td>0.05</td>\n",
       "    </tr>\n",
       "    <tr>\n",
       "      <th>11</th>\n",
       "      <td>10252/20</td>\n",
       "      <td>10252</td>\n",
       "      <td>20</td>\n",
       "      <td>64.8</td>\n",
       "      <td>40</td>\n",
       "      <td>0.05</td>\n",
       "    </tr>\n",
       "  </tbody>\n",
       "</table>\n",
       "</div>"
      ],
      "text/plain": [
       "          Id  OrderId  ProductId  UnitPrice  Quantity  Discount\n",
       "6   10250/51    10250         51       42.4        35      0.15\n",
       "7   10250/65    10250         65       16.8        15      0.15\n",
       "8   10251/22    10251         22       16.8         6      0.05\n",
       "9   10251/57    10251         57       15.6        15      0.05\n",
       "11  10252/20    10252         20       64.8        40      0.05"
      ]
     },
     "execution_count": 14,
     "metadata": {},
     "output_type": "execute_result"
    }
   ],
   "source": [
    "discount_true.head()"
   ]
  },
  {
   "cell_type": "markdown",
   "metadata": {},
   "source": [
    "### Histograms"
   ]
  },
  {
   "cell_type": "code",
   "execution_count": 15,
   "metadata": {},
   "outputs": [
    {
     "data": {
      "image/png": "[encoded data removed]",
      "text/plain": [
       "<Figure size 648x432 with 1 Axes>"
      ]
     },
     "metadata": {},
     "output_type": "display_data"
    }
   ],
   "source": [
    "_ = plt.figure(figsize=(9,6))\n",
    "_ = plt.hist(discount_false['Quantity'])\n",
    "_ = plt.title('Discount False')\n",
    "_ = plt.xlabel('Quantity')\n",
    "plt.show()"
   ]
  },
  {
   "cell_type": "code",
   "execution_count": 16,
   "metadata": {},
   "outputs": [
    {
     "data": {
      "image/png": "[encoded data removed]",
      "text/plain": [
       "<Figure size 648x432 with 1 Axes>"
      ]
     },
     "metadata": {},
     "output_type": "display_data"
    }
   ],
   "source": [
    "_ = plt.figure(figsize=(9,6))\n",
    "_ = plt.hist(discount_true['Quantity'])\n",
    "_ = plt.title('Discount True')\n",
    "_ = plt.xlabel('Quantity')\n",
    "plt.show()"
   ]
  },
  {
   "cell_type": "markdown",
   "metadata": {},
   "source": [
    "### Bee Swarm Plot"
   ]
  },
  {
   "cell_type": "code",
   "execution_count": 17,
   "metadata": {},
   "outputs": [
    {
     "data": {
      "image/png": "[encoded data removed]",
      "text/plain": [
       "<Figure size 864x576 with 1 Axes>"
      ]
     },
     "metadata": {},
     "output_type": "display_data"
    }
   ],
   "source": [
    "sns.set()\n",
    "plt.figure(figsize=(12, 8))\n",
    "sns.swarmplot(x=discount_false['Discount'], y=discount_false['Quantity'])\n",
    "plt.title('Swarmplot Discount False')\n",
    "plt.show()"
   ]
  },
  {
   "cell_type": "code",
   "execution_count": 18,
   "metadata": {},
   "outputs": [
    {
     "data": {
      "image/png": "[encoded data removed]",
      "text/plain": [
       "<Figure size 720x576 with 1 Axes>"
      ]
     },
     "metadata": {},
     "output_type": "display_data"
    }
   ],
   "source": [
    "plt.figure(figsize=(10, 8))\n",
    "sns.swarmplot(x=discount_true['Discount'], y=discount_true['Quantity'])\n",
    "plt.title('Swarmplot Discount True')\n",
    "plt.show()"
   ]
  },
  {
   "cell_type": "markdown",
   "metadata": {},
   "source": [
    "### CDFS"
   ]
  },
  {
   "cell_type": "code",
   "execution_count": 19,
   "metadata": {},
   "outputs": [],
   "source": [
    "def ecdf(data):\n",
    "    '''\n",
    "    Computes the ECDF for a given dataset.\n",
    "    \n",
    "    data: a list or array.\n",
    "    \n",
    "    returns: x, y\n",
    "    '''\n",
    "    n = len(data)\n",
    "    x = np.sort(data)\n",
    "    y = np.arange(1, n + 1) / n\n",
    "    \n",
    "    return x, y"
   ]
  },
  {
   "cell_type": "code",
   "execution_count": 20,
   "metadata": {},
   "outputs": [],
   "source": [
    "quantity_x, quantity_y = ecdf(discount_false['Quantity'])"
   ]
  },
  {
   "cell_type": "code",
   "execution_count": 21,
   "metadata": {
    "scrolled": false
   },
   "outputs": [
    {
     "data": {
      "image/png": "[encoded data removed]",
      "text/plain": [
       "<Figure size 720x432 with 1 Axes>"
      ]
     },
     "metadata": {},
     "output_type": "display_data"
    }
   ],
   "source": [
    "_ = plt.figure(figsize=(10,6))\n",
    "_ = sns.scatterplot(x=quantity_x, y=quantity_y)\n",
    "_ = plt.title('Quantity ECDF (Discount False)')\n",
    "_ = plt.xlabel('Quantity')\n",
    "_ = plt.ylabel('ECDF')\n",
    "\n",
    "plt.show()"
   ]
  },
  {
   "cell_type": "code",
   "execution_count": 22,
   "metadata": {},
   "outputs": [],
   "source": [
    "dis_true_x, dis_true_y = ecdf(discount_true['Quantity'])"
   ]
  },
  {
   "cell_type": "code",
   "execution_count": 23,
   "metadata": {},
   "outputs": [
    {
     "data": {
      "image/png": "[encoded data removed]",
      "text/plain": [
       "<Figure size 720x432 with 1 Axes>"
      ]
     },
     "metadata": {},
     "output_type": "display_data"
    }
   ],
   "source": [
    "_ = plt.figure(figsize=(10,6))\n",
    "_ = sns.scatterplot(x=dis_true_x, y=dis_true_y)\n",
    "_ = plt.title('Quantity ECDF (Discount True)')\n",
    "_ = plt.xlabel('Quantity')\n",
    "_ = plt.ylabel('ECDF')\n",
    "\n",
    "plt.show()"
   ]
  },
  {
   "cell_type": "markdown",
   "metadata": {},
   "source": [
    "### Box Plots"
   ]
  },
  {
   "cell_type": "code",
   "execution_count": 24,
   "metadata": {},
   "outputs": [
    {
     "data": {
      "image/png": "[encoded data removed]",
      "text/plain": [
       "<Figure size 720x432 with 1 Axes>"
      ]
     },
     "metadata": {},
     "output_type": "display_data"
    }
   ],
   "source": [
    "_ = plt.figure(figsize=(10,6))\n",
    "_ = sns.boxplot(x=discount_false['Discount'], y=discount_false['Quantity'])\n",
    "_ = plt.title('Orders by Discounts')\n",
    "plt.show()"
   ]
  },
  {
   "cell_type": "code",
   "execution_count": 25,
   "metadata": {},
   "outputs": [
    {
     "data": {
      "image/png": "[encoded data removed]",
      "text/plain": [
       "<Figure size 1152x720 with 1 Axes>"
      ]
     },
     "metadata": {},
     "output_type": "display_data"
    }
   ],
   "source": [
    "_ = plt.figure(figsize=(16, 10))\n",
    "_ = sns.boxplot(x=discount_true['Discount'], y=discount_true['Quantity'])\n",
    "_ = plt.title('Orders by Discounts (Discount True)')\n",
    "plt.show()"
   ]
  },
  {
   "cell_type": "markdown",
   "metadata": {},
   "source": [
    "From the EDA we can see that discounts in increments of 5% have more orders."
   ]
  },
  {
   "cell_type": "markdown",
   "metadata": {},
   "source": [
    "### Checking for Covariance"
   ]
  },
  {
   "cell_type": "code",
   "execution_count": 26,
   "metadata": {},
   "outputs": [],
   "source": [
    "discount_categories = pd.get_dummies(orders['Discount'], columns='Discount')\n",
    "orders_new = pd.concat([orders, discount_categories], axis=1)\n",
    "orders_new.drop(columns='Discount', inplace=True)"
   ]
  },
  {
   "cell_type": "code",
   "execution_count": 27,
   "metadata": {},
   "outputs": [],
   "source": [
    "def pearson_r(data1, data2):\n",
    "    '''\n",
    "    Computes the pearson correlation between two datasets\n",
    "    \n",
    "    returns: covariance\n",
    "    '''\n",
    "    return np.cov(data1, data2)[0,1]"
   ]
  },
  {
   "cell_type": "code",
   "execution_count": 28,
   "metadata": {},
   "outputs": [
    {
     "name": "stdout",
     "output_type": "stream",
     "text": [
      " Pearson Correlation w/ No Discounts: 0.0\n"
     ]
    }
   ],
   "source": [
    "discount_corr = pearson_r(discount_false['Discount'], discount_false['Quantity'])\n",
    "print(f' Pearson Correlation w/ No Discounts: {discount_corr}')"
   ]
  },
  {
   "cell_type": "code",
   "execution_count": 29,
   "metadata": {},
   "outputs": [
    {
     "name": "stdout",
     "output_type": "stream",
     "text": [
      " Pearson Correlation w/ No Discounts: 0.048496534104356066\n"
     ]
    }
   ],
   "source": [
    "no_discount_corr = pearson_r(discount_true['Discount'], discount_true['Quantity'])\n",
    "print(f' Pearson Correlation w/ No Discounts: {no_discount_corr}')"
   ]
  },
  {
   "cell_type": "markdown",
   "metadata": {},
   "source": [
    "### Hacker Statistics\n",
    "\n",
    "Generate samples of quantities form the OrderDetail table then compare them to the original data."
   ]
  },
  {
   "cell_type": "code",
   "execution_count": 30,
   "metadata": {},
   "outputs": [],
   "source": [
    "def replicate(data, func, size=1):\n",
    "    '''\n",
    "    Gives a replicate of the data with the given function.\n",
    "    \n",
    "    data: a dataset to generate replicates\n",
    "    func: type of func to pass(np.mean, np.median, np.std)\n",
    "    size: how many samples to generate\n",
    "    '''\n",
    "    sample = np.random.choice(data, len(data))\n",
    "    return func(sample)"
   ]
  },
  {
   "cell_type": "code",
   "execution_count": 31,
   "metadata": {},
   "outputs": [],
   "source": [
    "def simulate(data, func, size=1):\n",
    "    '''\n",
    "    Generates multiple replicates from the replicate function.\n",
    "    \n",
    "    data: a dataset to generate replicates\n",
    "    func: type of func to pass(mean, median, std)\n",
    "    size: how many samples to generate    \n",
    "    '''\n",
    "    # initialize empty array to store replicates\n",
    "    replicas = np.empty(shape=size)\n",
    "    \n",
    "    # for loop to generate a replica for the given size\n",
    "    for i in range(size):\n",
    "        replicas[i] = replicate(data, func)\n",
    "        \n",
    "    return replicas"
   ]
  },
  {
   "cell_type": "code",
   "execution_count": 32,
   "metadata": {},
   "outputs": [
    {
     "name": "stdout",
     "output_type": "stream",
     "text": [
      "Standard Error of Mean: 0.4096687388075916\n",
      "Standard deviation: 0.4075825021832406\n",
      "Mean: 23.814209373549883\n"
     ]
    },
    {
     "data": {
      "image/png": "[encoded data removed]",
      "text/plain": [
       "<Figure size 432x288 with 1 Axes>"
      ]
     },
     "metadata": {},
     "output_type": "display_data"
    }
   ],
   "source": [
    "quantity = orders['Quantity']\n",
    "# take 10000 mean replicas from Quantity\n",
    "qty_replicas = simulate(quantity, np.mean, 10000)\n",
    "\n",
    "# computing the standard error of the mean\n",
    "sem = np.std(quantity) / np.sqrt(len(quantity))\n",
    "print(f'Standard Error of Mean: {sem}')\n",
    "\n",
    "std_replicas = np.std(qty_replicas)\n",
    "print(f'Standard deviation: {std_replicas}')\n",
    "print(f'Mean: {np.mean(qty_replicas)}')\n",
    "\n",
    "# Histogram to show results\n",
    "_ = plt.hist(qty_replicas, bins=int(np.sqrt(len(quantity))), density=True)\n",
    "_ = plt.xlabel('Mean Quantity Ordered')\n",
    "_ = plt.ylabel('PDF')\n",
    "\n",
    "plt.show()"
   ]
  },
  {
   "cell_type": "markdown",
   "metadata": {},
   "source": [
    "### Confidence Interval\n",
    "\n",
    "Computing the 95% confidence interval."
   ]
  },
  {
   "cell_type": "code",
   "execution_count": 33,
   "metadata": {},
   "outputs": [
    {
     "data": {
      "text/plain": [
       "array([23.0212993 , 24.61720418])"
      ]
     },
     "execution_count": 33,
     "metadata": {},
     "output_type": "execute_result"
    }
   ],
   "source": [
    "np.percentile(qty_replicas, [2.5, 97.5])"
   ]
  },
  {
   "cell_type": "markdown",
   "metadata": {},
   "source": [
    "### Linear Regression "
   ]
  },
  {
   "cell_type": "code",
   "execution_count": 34,
   "metadata": {},
   "outputs": [],
   "source": [
    "def lin_reg_sample_pairs(x, y, size=1):\n",
    "    '''\n",
    "    Perform pair sampling for linear regression\n",
    "    \n",
    "    size: number of samples\n",
    "    '''\n",
    "    \n",
    "    # create indices for the same size as x.\n",
    "    indices = np.arange(len(x))\n",
    "    \n",
    "    # empty arrays to store slopes and intercepts\n",
    "    slopes = np.empty(size)\n",
    "    intercepts = np.empty(size)\n",
    "    \n",
    "    # for loop to generate replicas\n",
    "    for i in range(size):\n",
    "        index = np.random.choice(indices, size=len(x))\n",
    "        sample_x, sample_y = x[indices], y[indices]\n",
    "        slopes[i], slopes[i] = np.polyfit(sample_x, sample_y, deg=1)\n",
    "        \n",
    "    return slopes, intercepts"
   ]
  },
  {
   "cell_type": "code",
   "execution_count": 35,
   "metadata": {},
   "outputs": [],
   "source": [
    "# generate samples of slopes and intercepts using the above function.\n",
    "qty_m, qty_b = lin_reg_sample_pairs(orders['Discount'], orders['Quantity'], size=1000)"
   ]
  },
  {
   "cell_type": "code",
   "execution_count": 36,
   "metadata": {},
   "outputs": [
    {
     "name": "stdout",
     "output_type": "stream",
     "text": [
      "Confidence interval for slope: [22.16682896 22.16682896]\n"
     ]
    }
   ],
   "source": [
    "# the confidence interval for slope and intercept\n",
    "print(f'Confidence interval for slope: {np.percentile(qty_m, [2.5, 97.5])}')"
   ]
  },
  {
   "cell_type": "code",
   "execution_count": 38,
   "metadata": {},
   "outputs": [],
   "source": [
    "def permutation_data(data1, data2):\n",
    "    '''\n",
    "    Generate a permuation sample from two datasets.\n",
    "    \n",
    "    data1: a 1D array\n",
    "    data2: a 1D array\n",
    "    \n",
    "    returns permuted_data1, permuted_data2\n",
    "    '''\n",
    "    \n",
    "    #concatenate 2 datasets\n",
    "    data = np.concatenate((data1, data2))\n",
    "    \n",
    "    # permute the concatenated array\n",
    "    permuted_array = np.random.permutation(data)\n",
    "    \n",
    "    # split the data into the original sizes\n",
    "    perm_data1 = permuted_array[:len(data1)]\n",
    "    perm_data2 = permuted_array[len(data1):]\n",
    "    \n",
    "    return perm_data1, perm_data2"
   ]
  },
  {
   "cell_type": "code",
   "execution_count": 39,
   "metadata": {},
   "outputs": [
    {
     "data": {
      "image/png": "[encoded data removed]",
      "text/plain": [
       "<Figure size 720x432 with 1 Axes>"
      ]
     },
     "metadata": {},
     "output_type": "display_data"
    }
   ],
   "source": [
    "plt.figure(figsize=(10, 6))\n",
    "for sample in range(50):\n",
    "    permuted1, permuted2 = permutation_data(discount_false['Quantity'], discount_true['Quantity'])\n",
    "    \n",
    "    #computing ECDFs for permuted1 and permuted2\n",
    "    x1, y1 = ecdf(permuted1)\n",
    "    x2, y2 = ecdf(permuted2)\n",
    "    \n",
    "    #plotting the ECDFs\n",
    "    perm_plot1 = plt.scatter(x1, y1, c='blue', s=10, alpha=0.2)\n",
    "    perm_plot2 = plt.scatter(x2, y2, c='red', s=10, alpha=0.2)\n",
    "    \n",
    "# plot for the original dataset\n",
    "ox1, oy1 = ecdf(discount_false['Quantity'])\n",
    "ox2, oy2 = ecdf(discount_true['Quantity'])\n",
    "\n",
    "orig_plot1 = plt.scatter(ox1, oy1, c='green', s=10, alpha=0.2)\n",
    "orig_plot2 = plt.scatter(ox2, oy2, c='yellow', s=10, alpha=0.2)\n",
    "_ = plt.xlabel('Quantity')\n",
    "_ = plt.ylabel('ECDF')\n",
    "_ = plt.legend([perm_plot1, perm_plot2, orig_plot1, orig_plot2] , \n",
    "               ['Permutation Sample 1 (Blue)', 'Permutation Sample 2 (Red)', \n",
    "                'Original Plot 1 (Green)', 'Original Plot 2 (Yellow)'], loc=4)\n",
    "\n",
    "plt.show()"
   ]
  },
  {
   "cell_type": "markdown",
   "metadata": {},
   "source": [
    "The distributions of the datasets [Permutation Sample 1, Permutation Sample 2, Original 1, Original 2] have the same distribution because the points overlap. This is verified by the histogram and ECDFs created earlier in the notebook."
   ]
  },
  {
   "cell_type": "code",
   "execution_count": 40,
   "metadata": {},
   "outputs": [],
   "source": [
    "def permutation_replicates(data1, data2, func, size=1):\n",
    "    '''\n",
    "    Generate multiple permutation replicates from a sample distribution.\n",
    "    \n",
    "    data1: a numpy array\n",
    "    data2: a numpy array\n",
    "    func: a numpy function(np.mean, np.std, np.var, etc...)\n",
    "    size: number of replicates to generate\n",
    "    \n",
    "    returns: perm_replicates\n",
    "    '''\n",
    "    \n",
    "    # initialize an empty array with the size parameter\n",
    "    replicates = np.empty(size)\n",
    "    \n",
    "    # for loop to generate replicates to put into replicates array\n",
    "    for i in range(size):\n",
    "        sample1, sample2 = permutation_data(data1, data2)\n",
    "        \n",
    "        # Compute the test statistic for each iteration and then add\n",
    "        # to replicates array\n",
    "        replicates[i] = func(sample1, sample2)\n",
    "        \n",
    "    return replicates"
   ]
  },
  {
   "cell_type": "code",
   "execution_count": 41,
   "metadata": {},
   "outputs": [],
   "source": [
    "def diff_of_mean(data1, data2):\n",
    "    '''\n",
    "    Calculate the difference of means between two means.\n",
    "    \n",
    "    data1: an array\n",
    "    data2: an array\n",
    "    \n",
    "    returns: diff\n",
    "    '''\n",
    "    \n",
    "    diff = np.mean(data1) - np.mean(data2)\n",
    "    \n",
    "    return diff"
   ]
  },
  {
   "cell_type": "markdown",
   "metadata": {},
   "source": [
    "## Hypothesis Testing"
   ]
  },
  {
   "cell_type": "code",
   "execution_count": 42,
   "metadata": {},
   "outputs": [
    {
     "name": "stdout",
     "output_type": "stream",
     "text": [
      "Pearson Coefficient: 0.048496534104356066\n"
     ]
    }
   ],
   "source": [
    "# the pearson correlation between quantity and discount\n",
    "qty_corr = pearson_r(discount_true['Discount'], discount_true['Quantity'])\n",
    "print(f'Pearson Coefficient: {qty_corr}')"
   ]
  },
  {
   "cell_type": "markdown",
   "metadata": {},
   "source": [
    "> H0: $\\rho_0 \\geq \\rho_1$\n",
    "The pearson correlation between discounts and quantities ordered is greater than or equal 4.84%\n",
    "\n",
    "\n",
    "> H1: $\\rho_0 < \\rho_1$\n",
    "The pearson correlation between discounts and quantities ordered is less than 4.84%"
   ]
  },
  {
   "cell_type": "code",
   "execution_count": 43,
   "metadata": {},
   "outputs": [
    {
     "name": "stdout",
     "output_type": "stream",
     "text": [
      "P-value: 0.0792, Fail to reject null hypothesis\n"
     ]
    }
   ],
   "source": [
    "# initialize empty permutation array of 10000\n",
    "permutation_arr = np.empty(10000)\n",
    "\n",
    "# for loop to create samples of the pearson coefficient\n",
    "for i in range(10000):\n",
    "    \n",
    "    #quantity & discount pearson coefficient samples\n",
    "    qty_sample = np.random.permutation(orders['Quantity'])\n",
    "    \n",
    "    # calculates the pearson coeffificent for each sample \n",
    "    # distribution and stores it into qty_sample\n",
    "    permutation_arr[i] = pearson_r(orders['Discount'], qty_sample)\n",
    "    \n",
    "p_value = np.sum(permutation_arr >= qty_corr) / len(permutation_arr)\n",
    "\n",
    "if p_value <= 0.05:\n",
    "    print(f'P-value: {p_value}, Reject null hypothesis')\n",
    "else:\n",
    "    print(f'P-value: {p_value}, Fail to reject null hypothesis')"
   ]
  },
  {
   "cell_type": "markdown",
   "metadata": {},
   "source": [
    "With a P-value of 0.0758 I fail to reject the null hypothesis and that there is a correlation between discounts and the amount of quantities ordered.\n",
    "\n",
    "Now we shall explore discounts!"
   ]
  },
  {
   "cell_type": "code",
   "execution_count": 44,
   "metadata": {},
   "outputs": [
    {
     "name": "stdout",
     "output_type": "stream",
     "text": [
      "Difference of means: -5.394523243866239\n",
      "P-value: 1.0\n"
     ]
    }
   ],
   "source": [
    "mean_difference = diff_of_mean(discount_false['Quantity'], discount_true['Quantity'])\n",
    "print(f'Difference of means: {mean_difference}')\n",
    "\n",
    "# a simulation of the difference in mean between quantities ordered with discounts\n",
    "# and quantities ordered without discounts\n",
    "qty_simulation = permutation_replicates(discount_false['Quantity'], discount_true['Quantity'], diff_of_mean, 10000)\n",
    "\n",
    "#computing the p-value using numpy\n",
    "p_value = np.sum(qty_simulation >= mean_difference) / len(qty_simulation)\n",
    "\n",
    "print(f'P-value: {p_value}')"
   ]
  },
  {
   "cell_type": "markdown",
   "metadata": {},
   "source": [
    "## Hypothesis 2"
   ]
  },
  {
   "cell_type": "code",
   "execution_count": null,
   "metadata": {},
   "outputs": [],
   "source": [
    "c.execute('''\n",
    "SELECT *\n",
    "FROM \n",
    "''')"
   ]
  },
  {
   "cell_type": "markdown",
   "metadata": {},
   "source": [
    "## Hypothesis 3\n",
    "\n",
    "$mu_0 /leqt/$H1: The average processing time for an order is "
   ]
  },
  {
   "cell_type": "code",
   "execution_count": 45,
   "metadata": {},
   "outputs": [],
   "source": [
    "# import the datetime module from Python\n",
    "import datetime as dt"
   ]
  },
  {
   "cell_type": "code",
   "execution_count": 46,
   "metadata": {},
   "outputs": [
    {
     "data": {
      "text/plain": [
       "[(0, 'Id', 'INTEGER', 0, None, 1),\n",
       " (1, 'CustomerId', 'VARCHAR(8000)', 0, None, 0),\n",
       " (2, 'EmployeeId', 'INTEGER', 1, None, 0),\n",
       " (3, 'OrderDate', 'VARCHAR(8000)', 0, None, 0),\n",
       " (4, 'RequiredDate', 'VARCHAR(8000)', 0, None, 0),\n",
       " (5, 'ShippedDate', 'VARCHAR(8000)', 0, None, 0),\n",
       " (6, 'ShipVia', 'INTEGER', 0, None, 0),\n",
       " (7, 'Freight', 'DECIMAL', 1, None, 0),\n",
       " (8, 'ShipName', 'VARCHAR(8000)', 0, None, 0),\n",
       " (9, 'ShipAddress', 'VARCHAR(8000)', 0, None, 0),\n",
       " (10, 'ShipCity', 'VARCHAR(8000)', 0, None, 0),\n",
       " (11, 'ShipRegion', 'VARCHAR(8000)', 0, None, 0),\n",
       " (12, 'ShipPostalCode', 'VARCHAR(8000)', 0, None, 0),\n",
       " (13, 'ShipCountry', 'VARCHAR(8000)', 0, None, 0)]"
      ]
     },
     "execution_count": 46,
     "metadata": {},
     "output_type": "execute_result"
    }
   ],
   "source": [
    "c.execute('''\n",
    "PRAGMA table_info([Order])\n",
    "''').fetchall()"
   ]
  },
  {
   "cell_type": "code",
   "execution_count": 48,
   "metadata": {},
   "outputs": [
    {
     "data": {
      "text/plain": [
       "[(0.012343068193786166,)]"
      ]
     },
     "execution_count": 48,
     "metadata": {},
     "output_type": "execute_result"
    }
   ],
   "source": [
    "c.execute('''\n",
    "SELECT AVG(ShippedDate) - AVG(OrderDate)\n",
    "FROM [Order];\n",
    "''').fetchall()"
   ]
  },
  {
   "cell_type": "code",
   "execution_count": 49,
   "metadata": {},
   "outputs": [],
   "source": [
    "process_time = pd.read_sql_query('''\n",
    "SELECT OrderDate, ShippedDate, RequiredDate\n",
    "FROM [Order];\n",
    "''', conn, parse_dates=['OrderDate', 'ShippedDate', 'RequiredDate'])"
   ]
  },
  {
   "cell_type": "code",
   "execution_count": 50,
   "metadata": {},
   "outputs": [
    {
     "data": {
      "text/html": [
       "<div>\n",
       "<style scoped>\n",
       "    .dataframe tbody tr th:only-of-type {\n",
       "        vertical-align: middle;\n",
       "    }\n",
       "\n",
       "    .dataframe tbody tr th {\n",
       "        vertical-align: top;\n",
       "    }\n",
       "\n",
       "    .dataframe thead th {\n",
       "        text-align: right;\n",
       "    }\n",
       "</style>\n",
       "<table border=\"1\" class=\"dataframe\">\n",
       "  <thead>\n",
       "    <tr style=\"text-align: right;\">\n",
       "      <th></th>\n",
       "      <th>OrderDate</th>\n",
       "      <th>ShippedDate</th>\n",
       "      <th>RequiredDate</th>\n",
       "    </tr>\n",
       "  </thead>\n",
       "  <tbody>\n",
       "    <tr>\n",
       "      <th>0</th>\n",
       "      <td>2012-07-04</td>\n",
       "      <td>2012-07-16</td>\n",
       "      <td>2012-08-01</td>\n",
       "    </tr>\n",
       "    <tr>\n",
       "      <th>1</th>\n",
       "      <td>2012-07-05</td>\n",
       "      <td>2012-07-10</td>\n",
       "      <td>2012-08-16</td>\n",
       "    </tr>\n",
       "    <tr>\n",
       "      <th>2</th>\n",
       "      <td>2012-07-08</td>\n",
       "      <td>2012-07-12</td>\n",
       "      <td>2012-08-05</td>\n",
       "    </tr>\n",
       "    <tr>\n",
       "      <th>3</th>\n",
       "      <td>2012-07-08</td>\n",
       "      <td>2012-07-15</td>\n",
       "      <td>2012-08-05</td>\n",
       "    </tr>\n",
       "    <tr>\n",
       "      <th>4</th>\n",
       "      <td>2012-07-09</td>\n",
       "      <td>2012-07-11</td>\n",
       "      <td>2012-08-06</td>\n",
       "    </tr>\n",
       "  </tbody>\n",
       "</table>\n",
       "</div>"
      ],
      "text/plain": [
       "   OrderDate ShippedDate RequiredDate\n",
       "0 2012-07-04  2012-07-16   2012-08-01\n",
       "1 2012-07-05  2012-07-10   2012-08-16\n",
       "2 2012-07-08  2012-07-12   2012-08-05\n",
       "3 2012-07-08  2012-07-15   2012-08-05\n",
       "4 2012-07-09  2012-07-11   2012-08-06"
      ]
     },
     "execution_count": 50,
     "metadata": {},
     "output_type": "execute_result"
    }
   ],
   "source": [
    "process_time.head()"
   ]
  },
  {
   "cell_type": "code",
   "execution_count": 128,
   "metadata": {},
   "outputs": [
    {
     "data": {
      "text/html": [
       "<div>\n",
       "<style scoped>\n",
       "    .dataframe tbody tr th:only-of-type {\n",
       "        vertical-align: middle;\n",
       "    }\n",
       "\n",
       "    .dataframe tbody tr th {\n",
       "        vertical-align: top;\n",
       "    }\n",
       "\n",
       "    .dataframe thead th {\n",
       "        text-align: right;\n",
       "    }\n",
       "</style>\n",
       "<table border=\"1\" class=\"dataframe\">\n",
       "  <thead>\n",
       "    <tr style=\"text-align: right;\">\n",
       "      <th></th>\n",
       "      <th>OrderDate</th>\n",
       "      <th>ShippedDate</th>\n",
       "      <th>RequiredDate</th>\n",
       "      <th>ProcessTime</th>\n",
       "      <th>TimeToDelivery</th>\n",
       "      <th>TravelTime</th>\n",
       "    </tr>\n",
       "  </thead>\n",
       "  <tbody>\n",
       "    <tr>\n",
       "      <th>0</th>\n",
       "      <td>2012-07-04</td>\n",
       "      <td>2012-07-16</td>\n",
       "      <td>2012-08-01</td>\n",
       "      <td>12</td>\n",
       "      <td>28</td>\n",
       "      <td>16</td>\n",
       "    </tr>\n",
       "    <tr>\n",
       "      <th>1</th>\n",
       "      <td>2012-07-05</td>\n",
       "      <td>2012-07-10</td>\n",
       "      <td>2012-08-16</td>\n",
       "      <td>5</td>\n",
       "      <td>42</td>\n",
       "      <td>37</td>\n",
       "    </tr>\n",
       "    <tr>\n",
       "      <th>2</th>\n",
       "      <td>2012-07-08</td>\n",
       "      <td>2012-07-12</td>\n",
       "      <td>2012-08-05</td>\n",
       "      <td>4</td>\n",
       "      <td>28</td>\n",
       "      <td>24</td>\n",
       "    </tr>\n",
       "    <tr>\n",
       "      <th>3</th>\n",
       "      <td>2012-07-08</td>\n",
       "      <td>2012-07-15</td>\n",
       "      <td>2012-08-05</td>\n",
       "      <td>7</td>\n",
       "      <td>28</td>\n",
       "      <td>21</td>\n",
       "    </tr>\n",
       "    <tr>\n",
       "      <th>4</th>\n",
       "      <td>2012-07-09</td>\n",
       "      <td>2012-07-11</td>\n",
       "      <td>2012-08-06</td>\n",
       "      <td>2</td>\n",
       "      <td>28</td>\n",
       "      <td>26</td>\n",
       "    </tr>\n",
       "  </tbody>\n",
       "</table>\n",
       "</div>"
      ],
      "text/plain": [
       "   OrderDate ShippedDate RequiredDate  ProcessTime  TimeToDelivery  TravelTime\n",
       "0 2012-07-04  2012-07-16   2012-08-01           12              28          16\n",
       "1 2012-07-05  2012-07-10   2012-08-16            5              42          37\n",
       "2 2012-07-08  2012-07-12   2012-08-05            4              28          24\n",
       "3 2012-07-08  2012-07-15   2012-08-05            7              28          21\n",
       "4 2012-07-09  2012-07-11   2012-08-06            2              28          26"
      ]
     },
     "execution_count": 128,
     "metadata": {},
     "output_type": "execute_result"
    }
   ],
   "source": [
    "# creating different time periods for each process\n",
    "\n",
    "# Process time: Time from order to ship\n",
    "process_time['ProcessTime'] = process_time['ShippedDate'] - process_time['OrderDate']\n",
    "\n",
    "# TravelTime: Time it takes from being shipped to reaching the customer\n",
    "process_time['TravelTime'] = process_time['RequiredDate'] - process_time['ShippedDate']\n",
    "\n",
    "# TimeToDelivery: Time it takes from order date to customer \n",
    "process_time['TimeToDelivery'] = process_time['RequiredDate'] - process_time['OrderDate']\n",
    "\n",
    "# The following code changes the dateTime to integers\n",
    "process_time['ProcessTime'] = process_time['ProcessTime'].dt.days\n",
    "process_time['TimeToDelivery'] = process_time['TimeToDelivery'].dt.days\n",
    "process_time['TravelTime'] = process_time['TravelTime'].dt.days\n",
    "process_time.head()"
   ]
  },
  {
   "cell_type": "code",
   "execution_count": 129,
   "metadata": {},
   "outputs": [
    {
     "name": "stdout",
     "output_type": "stream",
     "text": [
      "<class 'pandas.core.frame.DataFrame'>\n",
      "Int64Index: 809 entries, 0 to 821\n",
      "Data columns (total 6 columns):\n",
      "OrderDate         809 non-null datetime64[ns]\n",
      "ShippedDate       809 non-null datetime64[ns]\n",
      "RequiredDate      809 non-null datetime64[ns]\n",
      "ProcessTime       809 non-null int64\n",
      "TimeToDelivery    809 non-null int64\n",
      "TravelTime        809 non-null int64\n",
      "dtypes: datetime64[ns](3), int64(3)\n",
      "memory usage: 44.2 KB\n"
     ]
    }
   ],
   "source": [
    "process_time.info()"
   ]
  },
  {
   "cell_type": "code",
   "execution_count": 130,
   "metadata": {},
   "outputs": [
    {
     "data": {
      "text/html": [
       "<div>\n",
       "<style scoped>\n",
       "    .dataframe tbody tr th:only-of-type {\n",
       "        vertical-align: middle;\n",
       "    }\n",
       "\n",
       "    .dataframe tbody tr th {\n",
       "        vertical-align: top;\n",
       "    }\n",
       "\n",
       "    .dataframe thead th {\n",
       "        text-align: right;\n",
       "    }\n",
       "</style>\n",
       "<table border=\"1\" class=\"dataframe\">\n",
       "  <thead>\n",
       "    <tr style=\"text-align: right;\">\n",
       "      <th></th>\n",
       "      <th>ProcessTime</th>\n",
       "      <th>TimeToDelivery</th>\n",
       "      <th>TravelTime</th>\n",
       "    </tr>\n",
       "  </thead>\n",
       "  <tbody>\n",
       "    <tr>\n",
       "      <th>count</th>\n",
       "      <td>809.000000</td>\n",
       "      <td>809.000000</td>\n",
       "      <td>809.000000</td>\n",
       "    </tr>\n",
       "    <tr>\n",
       "      <th>mean</th>\n",
       "      <td>8.491965</td>\n",
       "      <td>27.844252</td>\n",
       "      <td>19.352287</td>\n",
       "    </tr>\n",
       "    <tr>\n",
       "      <th>std</th>\n",
       "      <td>6.838682</td>\n",
       "      <td>5.548211</td>\n",
       "      <td>8.922701</td>\n",
       "    </tr>\n",
       "    <tr>\n",
       "      <th>min</th>\n",
       "      <td>1.000000</td>\n",
       "      <td>14.000000</td>\n",
       "      <td>-23.000000</td>\n",
       "    </tr>\n",
       "    <tr>\n",
       "      <th>25%</th>\n",
       "      <td>4.000000</td>\n",
       "      <td>28.000000</td>\n",
       "      <td>18.000000</td>\n",
       "    </tr>\n",
       "    <tr>\n",
       "      <th>50%</th>\n",
       "      <td>7.000000</td>\n",
       "      <td>28.000000</td>\n",
       "      <td>21.000000</td>\n",
       "    </tr>\n",
       "    <tr>\n",
       "      <th>75%</th>\n",
       "      <td>9.000000</td>\n",
       "      <td>28.000000</td>\n",
       "      <td>24.000000</td>\n",
       "    </tr>\n",
       "    <tr>\n",
       "      <th>max</th>\n",
       "      <td>37.000000</td>\n",
       "      <td>42.000000</td>\n",
       "      <td>41.000000</td>\n",
       "    </tr>\n",
       "  </tbody>\n",
       "</table>\n",
       "</div>"
      ],
      "text/plain": [
       "       ProcessTime  TimeToDelivery  TravelTime\n",
       "count   809.000000      809.000000  809.000000\n",
       "mean      8.491965       27.844252   19.352287\n",
       "std       6.838682        5.548211    8.922701\n",
       "min       1.000000       14.000000  -23.000000\n",
       "25%       4.000000       28.000000   18.000000\n",
       "50%       7.000000       28.000000   21.000000\n",
       "75%       9.000000       28.000000   24.000000\n",
       "max      37.000000       42.000000   41.000000"
      ]
     },
     "execution_count": 130,
     "metadata": {},
     "output_type": "execute_result"
    }
   ],
   "source": [
    "process_time.describe()"
   ]
  },
  {
   "cell_type": "code",
   "execution_count": 54,
   "metadata": {},
   "outputs": [],
   "source": [
    "# dropping 20 NA values\n",
    "process_time.dropna(inplace=True)"
   ]
  },
  {
   "cell_type": "code",
   "execution_count": 135,
   "metadata": {},
   "outputs": [
    {
     "data": {
      "image/png": "[encoded data removed]",
      "text/plain": [
       "<Figure size 1152x720 with 4 Axes>"
      ]
     },
     "metadata": {},
     "output_type": "display_data"
    }
   ],
   "source": [
    "process_time.hist(figsize=(16, 10));"
   ]
  },
  {
   "cell_type": "markdown",
   "metadata": {},
   "source": [
    "## Negative Travel Times\n",
    "\n",
    "The TravelTime histogram shows that there are travel times less than 0 which indicates that there are some shipments that were sent after the Required Date.\n",
    "\n",
    "The negative numbers represent the numbers of days after the required date before shipping."
   ]
  },
  {
   "cell_type": "code",
   "execution_count": 142,
   "metadata": {},
   "outputs": [
    {
     "name": "stdout",
     "output_type": "stream",
     "text": [
      "There are 37 orders that were shipped after the required date.\n"
     ]
    }
   ],
   "source": [
    "shipped_late_len = len(process_time[process_time['TravelTime'] < 0])\n",
    "print(f'There are {shipped_late_len} orders that were shipped after the required date.')"
   ]
  },
  {
   "cell_type": "code",
   "execution_count": 148,
   "metadata": {
    "scrolled": true
   },
   "outputs": [
    {
     "data": {
      "text/html": [
       "<div>\n",
       "<style scoped>\n",
       "    .dataframe tbody tr th:only-of-type {\n",
       "        vertical-align: middle;\n",
       "    }\n",
       "\n",
       "    .dataframe tbody tr th {\n",
       "        vertical-align: top;\n",
       "    }\n",
       "\n",
       "    .dataframe thead th {\n",
       "        text-align: right;\n",
       "    }\n",
       "</style>\n",
       "<table border=\"1\" class=\"dataframe\">\n",
       "  <thead>\n",
       "    <tr style=\"text-align: right;\">\n",
       "      <th></th>\n",
       "      <th>OrderDate</th>\n",
       "      <th>ShippedDate</th>\n",
       "      <th>RequiredDate</th>\n",
       "      <th>ProcessTime</th>\n",
       "      <th>TimeToDelivery</th>\n",
       "      <th>TravelTime</th>\n",
       "    </tr>\n",
       "  </thead>\n",
       "  <tbody>\n",
       "    <tr>\n",
       "      <th>16</th>\n",
       "      <td>2012-07-24</td>\n",
       "      <td>2012-08-23</td>\n",
       "      <td>2012-08-21</td>\n",
       "      <td>30</td>\n",
       "      <td>28</td>\n",
       "      <td>-2</td>\n",
       "    </tr>\n",
       "    <tr>\n",
       "      <th>23</th>\n",
       "      <td>2012-08-01</td>\n",
       "      <td>2012-08-30</td>\n",
       "      <td>2012-08-29</td>\n",
       "      <td>29</td>\n",
       "      <td>28</td>\n",
       "      <td>-1</td>\n",
       "    </tr>\n",
       "    <tr>\n",
       "      <th>32</th>\n",
       "      <td>2012-08-14</td>\n",
       "      <td>2012-09-12</td>\n",
       "      <td>2012-09-11</td>\n",
       "      <td>29</td>\n",
       "      <td>28</td>\n",
       "      <td>-1</td>\n",
       "    </tr>\n",
       "    <tr>\n",
       "      <th>54</th>\n",
       "      <td>2012-09-10</td>\n",
       "      <td>2012-10-09</td>\n",
       "      <td>2012-10-08</td>\n",
       "      <td>29</td>\n",
       "      <td>28</td>\n",
       "      <td>-1</td>\n",
       "    </tr>\n",
       "    <tr>\n",
       "      <th>61</th>\n",
       "      <td>2012-09-19</td>\n",
       "      <td>2012-10-23</td>\n",
       "      <td>2012-10-17</td>\n",
       "      <td>34</td>\n",
       "      <td>28</td>\n",
       "      <td>-6</td>\n",
       "    </tr>\n",
       "    <tr>\n",
       "      <th>72</th>\n",
       "      <td>2012-10-03</td>\n",
       "      <td>2012-10-18</td>\n",
       "      <td>2012-10-17</td>\n",
       "      <td>15</td>\n",
       "      <td>14</td>\n",
       "      <td>-1</td>\n",
       "    </tr>\n",
       "    <tr>\n",
       "      <th>132</th>\n",
       "      <td>2012-12-12</td>\n",
       "      <td>2013-01-16</td>\n",
       "      <td>2013-01-09</td>\n",
       "      <td>35</td>\n",
       "      <td>28</td>\n",
       "      <td>-7</td>\n",
       "    </tr>\n",
       "    <tr>\n",
       "      <th>175</th>\n",
       "      <td>2013-01-23</td>\n",
       "      <td>2013-02-24</td>\n",
       "      <td>2013-02-06</td>\n",
       "      <td>32</td>\n",
       "      <td>14</td>\n",
       "      <td>-18</td>\n",
       "    </tr>\n",
       "    <tr>\n",
       "      <th>179</th>\n",
       "      <td>2013-01-27</td>\n",
       "      <td>2013-03-03</td>\n",
       "      <td>2013-02-24</td>\n",
       "      <td>35</td>\n",
       "      <td>28</td>\n",
       "      <td>-7</td>\n",
       "    </tr>\n",
       "    <tr>\n",
       "      <th>185</th>\n",
       "      <td>2013-02-03</td>\n",
       "      <td>2013-03-04</td>\n",
       "      <td>2013-03-03</td>\n",
       "      <td>29</td>\n",
       "      <td>28</td>\n",
       "      <td>-1</td>\n",
       "    </tr>\n",
       "    <tr>\n",
       "      <th>203</th>\n",
       "      <td>2013-02-19</td>\n",
       "      <td>2013-03-12</td>\n",
       "      <td>2013-03-05</td>\n",
       "      <td>21</td>\n",
       "      <td>14</td>\n",
       "      <td>-7</td>\n",
       "    </tr>\n",
       "    <tr>\n",
       "      <th>235</th>\n",
       "      <td>2013-03-24</td>\n",
       "      <td>2013-04-25</td>\n",
       "      <td>2013-04-21</td>\n",
       "      <td>32</td>\n",
       "      <td>28</td>\n",
       "      <td>-4</td>\n",
       "    </tr>\n",
       "    <tr>\n",
       "      <th>267</th>\n",
       "      <td>2013-04-23</td>\n",
       "      <td>2013-05-23</td>\n",
       "      <td>2013-05-07</td>\n",
       "      <td>30</td>\n",
       "      <td>14</td>\n",
       "      <td>-16</td>\n",
       "    </tr>\n",
       "    <tr>\n",
       "      <th>275</th>\n",
       "      <td>2013-05-01</td>\n",
       "      <td>2013-05-30</td>\n",
       "      <td>2013-05-29</td>\n",
       "      <td>29</td>\n",
       "      <td>28</td>\n",
       "      <td>-1</td>\n",
       "    </tr>\n",
       "    <tr>\n",
       "      <th>297</th>\n",
       "      <td>2013-05-22</td>\n",
       "      <td>2013-06-26</td>\n",
       "      <td>2013-06-19</td>\n",
       "      <td>35</td>\n",
       "      <td>28</td>\n",
       "      <td>-7</td>\n",
       "    </tr>\n",
       "    <tr>\n",
       "      <th>330</th>\n",
       "      <td>2013-06-24</td>\n",
       "      <td>2013-07-25</td>\n",
       "      <td>2013-07-22</td>\n",
       "      <td>31</td>\n",
       "      <td>28</td>\n",
       "      <td>-3</td>\n",
       "    </tr>\n",
       "    <tr>\n",
       "      <th>345</th>\n",
       "      <td>2013-07-09</td>\n",
       "      <td>2013-08-13</td>\n",
       "      <td>2013-08-06</td>\n",
       "      <td>35</td>\n",
       "      <td>28</td>\n",
       "      <td>-7</td>\n",
       "    </tr>\n",
       "    <tr>\n",
       "      <th>348</th>\n",
       "      <td>2013-07-11</td>\n",
       "      <td>2013-08-12</td>\n",
       "      <td>2013-08-08</td>\n",
       "      <td>32</td>\n",
       "      <td>28</td>\n",
       "      <td>-4</td>\n",
       "    </tr>\n",
       "    <tr>\n",
       "      <th>412</th>\n",
       "      <td>2013-09-08</td>\n",
       "      <td>2013-10-15</td>\n",
       "      <td>2013-10-06</td>\n",
       "      <td>37</td>\n",
       "      <td>28</td>\n",
       "      <td>-9</td>\n",
       "    </tr>\n",
       "    <tr>\n",
       "      <th>415</th>\n",
       "      <td>2013-09-10</td>\n",
       "      <td>2013-10-03</td>\n",
       "      <td>2013-09-24</td>\n",
       "      <td>23</td>\n",
       "      <td>14</td>\n",
       "      <td>-9</td>\n",
       "    </tr>\n",
       "    <tr>\n",
       "      <th>439</th>\n",
       "      <td>2013-09-30</td>\n",
       "      <td>2013-10-30</td>\n",
       "      <td>2013-10-28</td>\n",
       "      <td>30</td>\n",
       "      <td>28</td>\n",
       "      <td>-2</td>\n",
       "    </tr>\n",
       "    <tr>\n",
       "      <th>457</th>\n",
       "      <td>2013-10-15</td>\n",
       "      <td>2013-11-18</td>\n",
       "      <td>2013-11-12</td>\n",
       "      <td>34</td>\n",
       "      <td>28</td>\n",
       "      <td>-6</td>\n",
       "    </tr>\n",
       "    <tr>\n",
       "      <th>461</th>\n",
       "      <td>2013-10-17</td>\n",
       "      <td>2013-11-20</td>\n",
       "      <td>2013-11-14</td>\n",
       "      <td>34</td>\n",
       "      <td>28</td>\n",
       "      <td>-6</td>\n",
       "    </tr>\n",
       "    <tr>\n",
       "      <th>478</th>\n",
       "      <td>2013-11-03</td>\n",
       "      <td>2013-12-05</td>\n",
       "      <td>2013-11-17</td>\n",
       "      <td>32</td>\n",
       "      <td>14</td>\n",
       "      <td>-18</td>\n",
       "    </tr>\n",
       "    <tr>\n",
       "      <th>479</th>\n",
       "      <td>2013-11-03</td>\n",
       "      <td>2013-12-05</td>\n",
       "      <td>2013-12-01</td>\n",
       "      <td>32</td>\n",
       "      <td>28</td>\n",
       "      <td>-4</td>\n",
       "    </tr>\n",
       "    <tr>\n",
       "      <th>501</th>\n",
       "      <td>2013-11-20</td>\n",
       "      <td>2013-12-19</td>\n",
       "      <td>2013-12-18</td>\n",
       "      <td>29</td>\n",
       "      <td>28</td>\n",
       "      <td>-1</td>\n",
       "    </tr>\n",
       "    <tr>\n",
       "      <th>529</th>\n",
       "      <td>2013-12-15</td>\n",
       "      <td>2014-01-21</td>\n",
       "      <td>2013-12-29</td>\n",
       "      <td>37</td>\n",
       "      <td>14</td>\n",
       "      <td>-23</td>\n",
       "    </tr>\n",
       "    <tr>\n",
       "      <th>531</th>\n",
       "      <td>2013-12-16</td>\n",
       "      <td>2014-01-14</td>\n",
       "      <td>2014-01-13</td>\n",
       "      <td>29</td>\n",
       "      <td>28</td>\n",
       "      <td>-1</td>\n",
       "    </tr>\n",
       "    <tr>\n",
       "      <th>559</th>\n",
       "      <td>2013-12-31</td>\n",
       "      <td>2014-01-30</td>\n",
       "      <td>2014-01-28</td>\n",
       "      <td>30</td>\n",
       "      <td>28</td>\n",
       "      <td>-2</td>\n",
       "    </tr>\n",
       "    <tr>\n",
       "      <th>568</th>\n",
       "      <td>2014-01-06</td>\n",
       "      <td>2014-02-04</td>\n",
       "      <td>2014-02-03</td>\n",
       "      <td>29</td>\n",
       "      <td>28</td>\n",
       "      <td>-1</td>\n",
       "    </tr>\n",
       "    <tr>\n",
       "      <th>579</th>\n",
       "      <td>2014-01-12</td>\n",
       "      <td>2014-02-06</td>\n",
       "      <td>2014-01-26</td>\n",
       "      <td>25</td>\n",
       "      <td>14</td>\n",
       "      <td>-11</td>\n",
       "    </tr>\n",
       "    <tr>\n",
       "      <th>580</th>\n",
       "      <td>2014-01-13</td>\n",
       "      <td>2014-02-04</td>\n",
       "      <td>2014-01-27</td>\n",
       "      <td>22</td>\n",
       "      <td>14</td>\n",
       "      <td>-8</td>\n",
       "    </tr>\n",
       "    <tr>\n",
       "      <th>599</th>\n",
       "      <td>2014-01-22</td>\n",
       "      <td>2014-02-10</td>\n",
       "      <td>2014-02-05</td>\n",
       "      <td>19</td>\n",
       "      <td>14</td>\n",
       "      <td>-5</td>\n",
       "    </tr>\n",
       "    <tr>\n",
       "      <th>676</th>\n",
       "      <td>2014-03-04</td>\n",
       "      <td>2014-04-08</td>\n",
       "      <td>2014-04-01</td>\n",
       "      <td>35</td>\n",
       "      <td>28</td>\n",
       "      <td>-7</td>\n",
       "    </tr>\n",
       "    <tr>\n",
       "      <th>679</th>\n",
       "      <td>2014-03-05</td>\n",
       "      <td>2014-04-08</td>\n",
       "      <td>2014-04-02</td>\n",
       "      <td>34</td>\n",
       "      <td>28</td>\n",
       "      <td>-6</td>\n",
       "    </tr>\n",
       "    <tr>\n",
       "      <th>712</th>\n",
       "      <td>2014-03-19</td>\n",
       "      <td>2014-04-08</td>\n",
       "      <td>2014-04-02</td>\n",
       "      <td>20</td>\n",
       "      <td>14</td>\n",
       "      <td>-6</td>\n",
       "    </tr>\n",
       "    <tr>\n",
       "      <th>722</th>\n",
       "      <td>2014-03-24</td>\n",
       "      <td>2014-04-24</td>\n",
       "      <td>2014-04-07</td>\n",
       "      <td>31</td>\n",
       "      <td>14</td>\n",
       "      <td>-17</td>\n",
       "    </tr>\n",
       "  </tbody>\n",
       "</table>\n",
       "</div>"
      ],
      "text/plain": [
       "     OrderDate ShippedDate RequiredDate  ProcessTime  TimeToDelivery  \\\n",
       "16  2012-07-24  2012-08-23   2012-08-21           30              28   \n",
       "23  2012-08-01  2012-08-30   2012-08-29           29              28   \n",
       "32  2012-08-14  2012-09-12   2012-09-11           29              28   \n",
       "54  2012-09-10  2012-10-09   2012-10-08           29              28   \n",
       "61  2012-09-19  2012-10-23   2012-10-17           34              28   \n",
       "72  2012-10-03  2012-10-18   2012-10-17           15              14   \n",
       "132 2012-12-12  2013-01-16   2013-01-09           35              28   \n",
       "175 2013-01-23  2013-02-24   2013-02-06           32              14   \n",
       "179 2013-01-27  2013-03-03   2013-02-24           35              28   \n",
       "185 2013-02-03  2013-03-04   2013-03-03           29              28   \n",
       "203 2013-02-19  2013-03-12   2013-03-05           21              14   \n",
       "235 2013-03-24  2013-04-25   2013-04-21           32              28   \n",
       "267 2013-04-23  2013-05-23   2013-05-07           30              14   \n",
       "275 2013-05-01  2013-05-30   2013-05-29           29              28   \n",
       "297 2013-05-22  2013-06-26   2013-06-19           35              28   \n",
       "330 2013-06-24  2013-07-25   2013-07-22           31              28   \n",
       "345 2013-07-09  2013-08-13   2013-08-06           35              28   \n",
       "348 2013-07-11  2013-08-12   2013-08-08           32              28   \n",
       "412 2013-09-08  2013-10-15   2013-10-06           37              28   \n",
       "415 2013-09-10  2013-10-03   2013-09-24           23              14   \n",
       "439 2013-09-30  2013-10-30   2013-10-28           30              28   \n",
       "457 2013-10-15  2013-11-18   2013-11-12           34              28   \n",
       "461 2013-10-17  2013-11-20   2013-11-14           34              28   \n",
       "478 2013-11-03  2013-12-05   2013-11-17           32              14   \n",
       "479 2013-11-03  2013-12-05   2013-12-01           32              28   \n",
       "501 2013-11-20  2013-12-19   2013-12-18           29              28   \n",
       "529 2013-12-15  2014-01-21   2013-12-29           37              14   \n",
       "531 2013-12-16  2014-01-14   2014-01-13           29              28   \n",
       "559 2013-12-31  2014-01-30   2014-01-28           30              28   \n",
       "568 2014-01-06  2014-02-04   2014-02-03           29              28   \n",
       "579 2014-01-12  2014-02-06   2014-01-26           25              14   \n",
       "580 2014-01-13  2014-02-04   2014-01-27           22              14   \n",
       "599 2014-01-22  2014-02-10   2014-02-05           19              14   \n",
       "676 2014-03-04  2014-04-08   2014-04-01           35              28   \n",
       "679 2014-03-05  2014-04-08   2014-04-02           34              28   \n",
       "712 2014-03-19  2014-04-08   2014-04-02           20              14   \n",
       "722 2014-03-24  2014-04-24   2014-04-07           31              14   \n",
       "\n",
       "     TravelTime  \n",
       "16           -2  \n",
       "23           -1  \n",
       "32           -1  \n",
       "54           -1  \n",
       "61           -6  \n",
       "72           -1  \n",
       "132          -7  \n",
       "175         -18  \n",
       "179          -7  \n",
       "185          -1  \n",
       "203          -7  \n",
       "235          -4  \n",
       "267         -16  \n",
       "275          -1  \n",
       "297          -7  \n",
       "330          -3  \n",
       "345          -7  \n",
       "348          -4  \n",
       "412          -9  \n",
       "415          -9  \n",
       "439          -2  \n",
       "457          -6  \n",
       "461          -6  \n",
       "478         -18  \n",
       "479          -4  \n",
       "501          -1  \n",
       "529         -23  \n",
       "531          -1  \n",
       "559          -2  \n",
       "568          -1  \n",
       "579         -11  \n",
       "580          -8  \n",
       "599          -5  \n",
       "676          -7  \n",
       "679          -6  \n",
       "712          -6  \n",
       "722         -17  "
      ]
     },
     "execution_count": 148,
     "metadata": {},
     "output_type": "execute_result"
    }
   ],
   "source": [
    "shipped_late = process_time[process_time['TravelTime'] < 0]\n",
    "shipped_late"
   ]
  },
  {
   "cell_type": "markdown",
   "metadata": {},
   "source": [
    "The reason for the delay was due to extended processing times.\n",
    "\n",
    "The table below shows the amount of orders shipped late by days past required date."
   ]
  },
  {
   "cell_type": "code",
   "execution_count": 179,
   "metadata": {},
   "outputs": [
    {
     "name": "stdout",
     "output_type": "stream",
     "text": [
      "-1     9\n",
      "-2     3\n",
      "-3     1\n",
      "-4     3\n",
      "-5     1\n",
      "-6     5\n",
      "-7     6\n",
      "-8     1\n",
      "-9     2\n",
      "-11    1\n",
      "-16    1\n",
      "-17    1\n",
      "-18    2\n",
      "-23    1\n",
      "Name: TravelTime, dtype: int64\n"
     ]
    }
   ],
   "source": [
    "print(shipped_late['TravelTime'].value_counts().sort_index(ascending=False))"
   ]
  },
  {
   "cell_type": "code",
   "execution_count": 149,
   "metadata": {},
   "outputs": [
    {
     "data": {
      "text/html": [
       "<div>\n",
       "<style scoped>\n",
       "    .dataframe tbody tr th:only-of-type {\n",
       "        vertical-align: middle;\n",
       "    }\n",
       "\n",
       "    .dataframe tbody tr th {\n",
       "        vertical-align: top;\n",
       "    }\n",
       "\n",
       "    .dataframe thead th {\n",
       "        text-align: right;\n",
       "    }\n",
       "</style>\n",
       "<table border=\"1\" class=\"dataframe\">\n",
       "  <thead>\n",
       "    <tr style=\"text-align: right;\">\n",
       "      <th></th>\n",
       "      <th>ProcessTime</th>\n",
       "      <th>TimeToDelivery</th>\n",
       "      <th>TravelTime</th>\n",
       "    </tr>\n",
       "  </thead>\n",
       "  <tbody>\n",
       "    <tr>\n",
       "      <th>count</th>\n",
       "      <td>37.000000</td>\n",
       "      <td>37.000000</td>\n",
       "      <td>37.000000</td>\n",
       "    </tr>\n",
       "    <tr>\n",
       "      <th>mean</th>\n",
       "      <td>29.837838</td>\n",
       "      <td>23.459459</td>\n",
       "      <td>-6.378378</td>\n",
       "    </tr>\n",
       "    <tr>\n",
       "      <th>std</th>\n",
       "      <td>5.220225</td>\n",
       "      <td>6.644106</td>\n",
       "      <td>5.629048</td>\n",
       "    </tr>\n",
       "    <tr>\n",
       "      <th>min</th>\n",
       "      <td>15.000000</td>\n",
       "      <td>14.000000</td>\n",
       "      <td>-23.000000</td>\n",
       "    </tr>\n",
       "    <tr>\n",
       "      <th>25%</th>\n",
       "      <td>29.000000</td>\n",
       "      <td>14.000000</td>\n",
       "      <td>-7.000000</td>\n",
       "    </tr>\n",
       "    <tr>\n",
       "      <th>50%</th>\n",
       "      <td>30.000000</td>\n",
       "      <td>28.000000</td>\n",
       "      <td>-6.000000</td>\n",
       "    </tr>\n",
       "    <tr>\n",
       "      <th>75%</th>\n",
       "      <td>34.000000</td>\n",
       "      <td>28.000000</td>\n",
       "      <td>-2.000000</td>\n",
       "    </tr>\n",
       "    <tr>\n",
       "      <th>max</th>\n",
       "      <td>37.000000</td>\n",
       "      <td>28.000000</td>\n",
       "      <td>-1.000000</td>\n",
       "    </tr>\n",
       "  </tbody>\n",
       "</table>\n",
       "</div>"
      ],
      "text/plain": [
       "       ProcessTime  TimeToDelivery  TravelTime\n",
       "count    37.000000       37.000000   37.000000\n",
       "mean     29.837838       23.459459   -6.378378\n",
       "std       5.220225        6.644106    5.629048\n",
       "min      15.000000       14.000000  -23.000000\n",
       "25%      29.000000       14.000000   -7.000000\n",
       "50%      30.000000       28.000000   -6.000000\n",
       "75%      34.000000       28.000000   -2.000000\n",
       "max      37.000000       28.000000   -1.000000"
      ]
     },
     "execution_count": 149,
     "metadata": {},
     "output_type": "execute_result"
    }
   ],
   "source": [
    "shipped_late.describe()"
   ]
  },
  {
   "cell_type": "code",
   "execution_count": 184,
   "metadata": {},
   "outputs": [],
   "source": [
    "on_time_test = len(process_time[process_time['TravelTime'] >= 0]) / len(process_time)"
   ]
  },
  {
   "cell_type": "markdown",
   "metadata": {},
   "source": [
    "H0: Atleast 95% of orders reach the customer on time.\n",
    "\n",
    "H1: Less than 95% of orders reach the customers on time."
   ]
  },
  {
   "cell_type": "code",
   "execution_count": 192,
   "metadata": {},
   "outputs": [
    {
     "name": "stdout",
     "output_type": "stream",
     "text": [
      "P-value: 12.360939431396787, Fail to reject null hypothesis\n"
     ]
    }
   ],
   "source": [
    "# initialize empty permutation array of 10000\n",
    "permutation_arr = np.empty(10000)\n",
    "\n",
    "# for loop to create samples of the pearson coefficient\n",
    "for i in range(10000):\n",
    "    \n",
    "    #Permute TravelTime\n",
    "    onTime_sample = np.random.permutation(process_time['TravelTime'])\n",
    "    \n",
    "    # Calculates of percentage of orders that were shipped before\n",
    "    # required date\n",
    "    permutation_arr[i] = np.sum(onTime_sample >= 0) / len(onTime_sample)\n",
    "    \n",
    "p_value = np.sum(permutation_arr >= on_time_test) / len(onTime_sample)\n",
    "\n",
    "if p_value <= 0.05:\n",
    "    print(f'P-value: {p_value}, Reject null hypothesis')\n",
    "else:\n",
    "    print(f'P-value: {p_value}, Fail to reject null hypothesis')"
   ]
  },
  {
   "cell_type": "code",
   "execution_count": 189,
   "metadata": {},
   "outputs": [
    {
     "data": {
      "text/plain": [
       "0.9542645241038319"
      ]
     },
     "execution_count": 189,
     "metadata": {},
     "output_type": "execute_result"
    }
   ],
   "source": [
    "np.sum(process_time['TravelTime'] >= 0) / len(process_time['TravelTime'])"
   ]
  },
  {
   "cell_type": "code",
   "execution_count": null,
   "metadata": {},
   "outputs": [],
   "source": []
  }
 ],
 "metadata": {
  "kernelspec": {
   "display_name": "Python 3",
   "language": "python",
   "name": "python3"
  },
  "language_info": {
   "codemirror_mode": {
    "name": "ipython",
    "version": 3
   },
   "file_extension": ".py",
   "mimetype": "text/x-python",
   "name": "python",
   "nbconvert_exporter": "python",
   "pygments_lexer": "ipython3",
   "version": "3.6.7"
  }
 },
 "nbformat": 4,
 "nbformat_minor": 2
}
